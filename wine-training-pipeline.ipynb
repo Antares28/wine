{
 "cells": [
  {
   "cell_type": "code",
   "execution_count": 1,
   "id": "80e6d5b4",
   "metadata": {},
   "outputs": [],
   "source": [
    "    import hopsworks\n",
    "    import pandas as pd\n",
    "    from sklearn.metrics import accuracy_score\n",
    "    from sklearn.metrics import confusion_matrix\n",
    "    from sklearn.metrics import classification_report\n",
    "    import seaborn as sns\n",
    "    from matplotlib import pyplot\n",
    "    from hsml.schema import Schema\n",
    "    from hsml.model_schema import ModelSchema\n",
    "    import joblib\n",
    "    import os"
   ]
  },
  {
   "cell_type": "code",
   "execution_count": 2,
   "id": "83e26283",
   "metadata": {},
   "outputs": [
    {
     "name": "stdout",
     "output_type": "stream",
     "text": [
      "Connected. Call `.close()` to terminate connection gracefully.\n",
      "\n",
      "Logged in to project, explore it here https://c.app.hopsworks.ai:443/p/206998\n",
      "Connected. Call `.close()` to terminate connection gracefully.\n"
     ]
    }
   ],
   "source": [
    "# You have to set the environment variable 'HOPSWORKS_API_KEY' for login to succeed\n",
    "project = hopsworks.login()\n",
    "fs = project.get_feature_store()"
   ]
  },
  {
   "cell_type": "code",
   "execution_count": 3,
   "id": "9cda64a9",
   "metadata": {},
   "outputs": [],
   "source": [
    "# The feature view is the input set of features for your model. The features can come from different feature groups.    \n",
    "# You can select features from different feature groups and join them together to create a feature view\n",
    "wine_fg = fs.get_feature_group(name=\"wine\", version=1)\n",
    "query = wine_fg.select_all()\n",
    "feature_view = fs.get_or_create_feature_view(name=\"wine\",\n",
    "                                  version=1,\n",
    "                                  description=\"Read from Wine Quality dataset\",\n",
    "                                  labels=[\"quality\"],\n",
    "                                  query=query)"
   ]
  },
  {
   "cell_type": "code",
   "execution_count": 4,
   "id": "c1a22158",
   "metadata": {},
   "outputs": [
    {
     "name": "stdout",
     "output_type": "stream",
     "text": [
      "Finished: Reading data from Hopsworks, using ArrowFlight (1.99s) \n"
     ]
    },
    {
     "name": "stderr",
     "output_type": "stream",
     "text": [
      "VersionWarning: Incremented version to `6`.\n"
     ]
    }
   ],
   "source": [
    "# Read the features split the data into training and testing sets of features (X) and labels (y)\n",
    "X_train, X_test, y_train, y_test = feature_view.train_test_split(0.2)"
   ]
  },
  {
   "cell_type": "code",
   "execution_count": 5,
   "id": "e17dcea1",
   "metadata": {},
   "outputs": [],
   "source": [
    "X_train.fillna(X_train.mean(), inplace=True)\n",
    "y_train.fillna(y_train.mean(), inplace=True)\n",
    "X_test.fillna(X_test.mean(), inplace=True)\n",
    "y_test.fillna(y_test.mean(), inplace=True)"
   ]
  },
  {
   "cell_type": "code",
   "execution_count": 6,
   "id": "1ca05fc8",
   "metadata": {},
   "outputs": [],
   "source": [
    "# Train our model with the Scikit-learn decision tree algorithm using our features (X_train) and labels (y_train)\n",
    "from sklearn import tree\n",
    "\n",
    "model = tree.DecisionTreeClassifier( criterion='gini', \n",
    "                                          splitter='best',\n",
    "                                          max_depth=None,\n",
    "                                          min_samples_leaf=3,\n",
    "                                          ccp_alpha=0.0,\n",
    "                                          )\n",
    "model = model.fit(X_train, y_train)"
   ]
  },
  {
   "cell_type": "code",
   "execution_count": 7,
   "id": "c13895c4",
   "metadata": {},
   "outputs": [
    {
     "data": {
      "text/plain": [
       "'from sklearn.neighbors import KNeighborsClassifier\\n    \\nmodel = KNeighborsClassifier(n_neighbors=2)\\nmodel.fit(X_train, y_train.values.ravel())'"
      ]
     },
     "execution_count": 7,
     "metadata": {},
     "output_type": "execute_result"
    }
   ],
   "source": [
    "# Train our model with the Scikit-learn K-nearest-neighbors algorithm using our features (X_train) and labels (y_train)\n",
    "'''from sklearn.neighbors import KNeighborsClassifier\n",
    "    \n",
    "model = KNeighborsClassifier(n_neighbors=2)\n",
    "model.fit(X_train, y_train.values.ravel())'''"
   ]
  },
  {
   "cell_type": "code",
   "execution_count": 8,
   "id": "1f3ceecf",
   "metadata": {},
   "outputs": [
    {
     "data": {
      "text/html": [
       "<div>\n",
       "<style scoped>\n",
       "    .dataframe tbody tr th:only-of-type {\n",
       "        vertical-align: middle;\n",
       "    }\n",
       "\n",
       "    .dataframe tbody tr th {\n",
       "        vertical-align: top;\n",
       "    }\n",
       "\n",
       "    .dataframe thead th {\n",
       "        text-align: right;\n",
       "    }\n",
       "</style>\n",
       "<table border=\"1\" class=\"dataframe\">\n",
       "  <thead>\n",
       "    <tr style=\"text-align: right;\">\n",
       "      <th></th>\n",
       "      <th>type</th>\n",
       "      <th>fixed_acidity</th>\n",
       "      <th>volatile_acidity</th>\n",
       "      <th>citric_acid</th>\n",
       "      <th>residual_sugar</th>\n",
       "      <th>chlorides</th>\n",
       "      <th>free_sulfur_dioxide</th>\n",
       "      <th>total_sulfur_dioxide</th>\n",
       "      <th>density</th>\n",
       "      <th>ph</th>\n",
       "      <th>sulphates</th>\n",
       "      <th>alcohol</th>\n",
       "    </tr>\n",
       "  </thead>\n",
       "  <tbody>\n",
       "    <tr>\n",
       "      <th>1</th>\n",
       "      <td>1</td>\n",
       "      <td>8.5</td>\n",
       "      <td>0.655</td>\n",
       "      <td>0.49</td>\n",
       "      <td>6.1</td>\n",
       "      <td>0.122</td>\n",
       "      <td>34.0</td>\n",
       "      <td>151.0</td>\n",
       "      <td>1.00100</td>\n",
       "      <td>3.31</td>\n",
       "      <td>1.14</td>\n",
       "      <td>9.3</td>\n",
       "    </tr>\n",
       "    <tr>\n",
       "      <th>3</th>\n",
       "      <td>0</td>\n",
       "      <td>7.2</td>\n",
       "      <td>0.230</td>\n",
       "      <td>0.39</td>\n",
       "      <td>14.2</td>\n",
       "      <td>0.058</td>\n",
       "      <td>49.0</td>\n",
       "      <td>192.0</td>\n",
       "      <td>0.99790</td>\n",
       "      <td>2.98</td>\n",
       "      <td>0.48</td>\n",
       "      <td>9.0</td>\n",
       "    </tr>\n",
       "    <tr>\n",
       "      <th>4</th>\n",
       "      <td>0</td>\n",
       "      <td>7.4</td>\n",
       "      <td>0.250</td>\n",
       "      <td>0.49</td>\n",
       "      <td>1.1</td>\n",
       "      <td>0.042</td>\n",
       "      <td>35.0</td>\n",
       "      <td>156.0</td>\n",
       "      <td>0.99170</td>\n",
       "      <td>3.13</td>\n",
       "      <td>0.55</td>\n",
       "      <td>11.3</td>\n",
       "    </tr>\n",
       "    <tr>\n",
       "      <th>6</th>\n",
       "      <td>0</td>\n",
       "      <td>6.2</td>\n",
       "      <td>0.280</td>\n",
       "      <td>0.45</td>\n",
       "      <td>7.5</td>\n",
       "      <td>0.045</td>\n",
       "      <td>46.0</td>\n",
       "      <td>203.0</td>\n",
       "      <td>0.99573</td>\n",
       "      <td>3.26</td>\n",
       "      <td>0.46</td>\n",
       "      <td>9.2</td>\n",
       "    </tr>\n",
       "    <tr>\n",
       "      <th>8</th>\n",
       "      <td>0</td>\n",
       "      <td>5.6</td>\n",
       "      <td>0.260</td>\n",
       "      <td>0.27</td>\n",
       "      <td>10.6</td>\n",
       "      <td>0.030</td>\n",
       "      <td>27.0</td>\n",
       "      <td>119.0</td>\n",
       "      <td>0.99470</td>\n",
       "      <td>3.40</td>\n",
       "      <td>0.34</td>\n",
       "      <td>10.7</td>\n",
       "    </tr>\n",
       "    <tr>\n",
       "      <th>...</th>\n",
       "      <td>...</td>\n",
       "      <td>...</td>\n",
       "      <td>...</td>\n",
       "      <td>...</td>\n",
       "      <td>...</td>\n",
       "      <td>...</td>\n",
       "      <td>...</td>\n",
       "      <td>...</td>\n",
       "      <td>...</td>\n",
       "      <td>...</td>\n",
       "      <td>...</td>\n",
       "      <td>...</td>\n",
       "    </tr>\n",
       "    <tr>\n",
       "      <th>5358</th>\n",
       "      <td>0</td>\n",
       "      <td>8.1</td>\n",
       "      <td>0.280</td>\n",
       "      <td>0.39</td>\n",
       "      <td>1.9</td>\n",
       "      <td>0.029</td>\n",
       "      <td>18.0</td>\n",
       "      <td>79.0</td>\n",
       "      <td>0.99230</td>\n",
       "      <td>3.21</td>\n",
       "      <td>0.52</td>\n",
       "      <td>11.8</td>\n",
       "    </tr>\n",
       "    <tr>\n",
       "      <th>5359</th>\n",
       "      <td>0</td>\n",
       "      <td>6.4</td>\n",
       "      <td>0.290</td>\n",
       "      <td>0.28</td>\n",
       "      <td>1.1</td>\n",
       "      <td>0.055</td>\n",
       "      <td>9.0</td>\n",
       "      <td>160.0</td>\n",
       "      <td>0.99405</td>\n",
       "      <td>3.42</td>\n",
       "      <td>0.50</td>\n",
       "      <td>9.1</td>\n",
       "    </tr>\n",
       "    <tr>\n",
       "      <th>5360</th>\n",
       "      <td>1</td>\n",
       "      <td>7.0</td>\n",
       "      <td>0.540</td>\n",
       "      <td>0.31</td>\n",
       "      <td>2.1</td>\n",
       "      <td>0.079</td>\n",
       "      <td>39.0</td>\n",
       "      <td>55.0</td>\n",
       "      <td>0.99560</td>\n",
       "      <td>3.39</td>\n",
       "      <td>0.84</td>\n",
       "      <td>11.4</td>\n",
       "    </tr>\n",
       "    <tr>\n",
       "      <th>5361</th>\n",
       "      <td>0</td>\n",
       "      <td>5.3</td>\n",
       "      <td>0.585</td>\n",
       "      <td>0.31</td>\n",
       "      <td>7.1</td>\n",
       "      <td>0.044</td>\n",
       "      <td>34.0</td>\n",
       "      <td>145.0</td>\n",
       "      <td>0.99450</td>\n",
       "      <td>3.34</td>\n",
       "      <td>0.57</td>\n",
       "      <td>9.7</td>\n",
       "    </tr>\n",
       "    <tr>\n",
       "      <th>5362</th>\n",
       "      <td>0</td>\n",
       "      <td>7.0</td>\n",
       "      <td>0.660</td>\n",
       "      <td>0.48</td>\n",
       "      <td>1.2</td>\n",
       "      <td>0.029</td>\n",
       "      <td>29.0</td>\n",
       "      <td>75.0</td>\n",
       "      <td>0.98920</td>\n",
       "      <td>3.33</td>\n",
       "      <td>0.39</td>\n",
       "      <td>12.8</td>\n",
       "    </tr>\n",
       "  </tbody>\n",
       "</table>\n",
       "<p>4290 rows × 12 columns</p>\n",
       "</div>"
      ],
      "text/plain": [
       "      type  fixed_acidity  volatile_acidity  citric_acid  residual_sugar  \\\n",
       "1        1            8.5             0.655         0.49             6.1   \n",
       "3        0            7.2             0.230         0.39            14.2   \n",
       "4        0            7.4             0.250         0.49             1.1   \n",
       "6        0            6.2             0.280         0.45             7.5   \n",
       "8        0            5.6             0.260         0.27            10.6   \n",
       "...    ...            ...               ...          ...             ...   \n",
       "5358     0            8.1             0.280         0.39             1.9   \n",
       "5359     0            6.4             0.290         0.28             1.1   \n",
       "5360     1            7.0             0.540         0.31             2.1   \n",
       "5361     0            5.3             0.585         0.31             7.1   \n",
       "5362     0            7.0             0.660         0.48             1.2   \n",
       "\n",
       "      chlorides  free_sulfur_dioxide  total_sulfur_dioxide  density    ph  \\\n",
       "1         0.122                 34.0                 151.0  1.00100  3.31   \n",
       "3         0.058                 49.0                 192.0  0.99790  2.98   \n",
       "4         0.042                 35.0                 156.0  0.99170  3.13   \n",
       "6         0.045                 46.0                 203.0  0.99573  3.26   \n",
       "8         0.030                 27.0                 119.0  0.99470  3.40   \n",
       "...         ...                  ...                   ...      ...   ...   \n",
       "5358      0.029                 18.0                  79.0  0.99230  3.21   \n",
       "5359      0.055                  9.0                 160.0  0.99405  3.42   \n",
       "5360      0.079                 39.0                  55.0  0.99560  3.39   \n",
       "5361      0.044                 34.0                 145.0  0.99450  3.34   \n",
       "5362      0.029                 29.0                  75.0  0.98920  3.33   \n",
       "\n",
       "      sulphates  alcohol  \n",
       "1          1.14      9.3  \n",
       "3          0.48      9.0  \n",
       "4          0.55     11.3  \n",
       "6          0.46      9.2  \n",
       "8          0.34     10.7  \n",
       "...         ...      ...  \n",
       "5358       0.52     11.8  \n",
       "5359       0.50      9.1  \n",
       "5360       0.84     11.4  \n",
       "5361       0.57      9.7  \n",
       "5362       0.39     12.8  \n",
       "\n",
       "[4290 rows x 12 columns]"
      ]
     },
     "execution_count": 8,
     "metadata": {},
     "output_type": "execute_result"
    }
   ],
   "source": [
    "X_train"
   ]
  },
  {
   "cell_type": "code",
   "execution_count": 9,
   "id": "bdbc5d3f",
   "metadata": {
    "scrolled": true
   },
   "outputs": [
    {
     "data": {
      "text/html": [
       "<div>\n",
       "<style scoped>\n",
       "    .dataframe tbody tr th:only-of-type {\n",
       "        vertical-align: middle;\n",
       "    }\n",
       "\n",
       "    .dataframe tbody tr th {\n",
       "        vertical-align: top;\n",
       "    }\n",
       "\n",
       "    .dataframe thead th {\n",
       "        text-align: right;\n",
       "    }\n",
       "</style>\n",
       "<table border=\"1\" class=\"dataframe\">\n",
       "  <thead>\n",
       "    <tr style=\"text-align: right;\">\n",
       "      <th></th>\n",
       "      <th>quality</th>\n",
       "    </tr>\n",
       "  </thead>\n",
       "  <tbody>\n",
       "    <tr>\n",
       "      <th>1</th>\n",
       "      <td>5</td>\n",
       "    </tr>\n",
       "    <tr>\n",
       "      <th>3</th>\n",
       "      <td>7</td>\n",
       "    </tr>\n",
       "    <tr>\n",
       "      <th>4</th>\n",
       "      <td>5</td>\n",
       "    </tr>\n",
       "    <tr>\n",
       "      <th>6</th>\n",
       "      <td>6</td>\n",
       "    </tr>\n",
       "    <tr>\n",
       "      <th>8</th>\n",
       "      <td>7</td>\n",
       "    </tr>\n",
       "    <tr>\n",
       "      <th>...</th>\n",
       "      <td>...</td>\n",
       "    </tr>\n",
       "    <tr>\n",
       "      <th>5358</th>\n",
       "      <td>6</td>\n",
       "    </tr>\n",
       "    <tr>\n",
       "      <th>5359</th>\n",
       "      <td>7</td>\n",
       "    </tr>\n",
       "    <tr>\n",
       "      <th>5360</th>\n",
       "      <td>6</td>\n",
       "    </tr>\n",
       "    <tr>\n",
       "      <th>5361</th>\n",
       "      <td>6</td>\n",
       "    </tr>\n",
       "    <tr>\n",
       "      <th>5362</th>\n",
       "      <td>8</td>\n",
       "    </tr>\n",
       "  </tbody>\n",
       "</table>\n",
       "<p>4290 rows × 1 columns</p>\n",
       "</div>"
      ],
      "text/plain": [
       "      quality\n",
       "1           5\n",
       "3           7\n",
       "4           5\n",
       "6           6\n",
       "8           7\n",
       "...       ...\n",
       "5358        6\n",
       "5359        7\n",
       "5360        6\n",
       "5361        6\n",
       "5362        8\n",
       "\n",
       "[4290 rows x 1 columns]"
      ]
     },
     "execution_count": 9,
     "metadata": {},
     "output_type": "execute_result"
    }
   ],
   "source": [
    "y_train"
   ]
  },
  {
   "cell_type": "code",
   "execution_count": 12,
   "id": "fc33ff06",
   "metadata": {},
   "outputs": [
    {
     "name": "stdout",
     "output_type": "stream",
     "text": [
      "result_train: 0.8601398601398601 \n",
      " result_test: 0.4594594594594595\n",
      "[('type', 0.0012221588518932503), ('fixed_acidity', 0.06564541716735875), ('volatile_acidity', 0.11049658827069395), ('citric_acid', 0.06135343211119034), ('residual_sugar', 0.07158237371175603), ('chlorides', 0.08813815540531011), ('free_sulfur_dioxide', 0.08338892703111077), ('total_sulfur_dioxide', 0.07703472904432619), ('density', 0.0966058862851406), ('ph', 0.08154477930141987), ('sulphates', 0.08816528023143136), ('alcohol', 0.17482227258836872)]\n"
     ]
    }
   ],
   "source": [
    "feature_names = [\"type\",\"fixed_acidity\",\"volatile_acidity\",\"citric_acid\",\"residual_sugar\",\"chlorides\",\"free_sulfur_dioxide\",\"total_sulfur_dioxide\",\"density\",\"ph\",\"sulphates\",\"alcohol\"]\n",
    "result_train = model.score(X_train, y_train)\n",
    "result_test = model.score(X_test, y_test)\n",
    "print('result_train:', result_train,        # accuracy of training dataset\n",
    "      '\\n', 'result_test:', result_test)    # accuracy of testing dataset\n",
    "print([*zip(feature_names, model.feature_importances_)])   # importance number of different attributes"
   ]
  },
  {
   "cell_type": "code",
   "execution_count": 13,
   "id": "8bee749c",
   "metadata": {},
   "outputs": [],
   "source": [
    "# Evaluate model performance using the features from the test set (X_test)\n",
    "y_pred = model.predict(X_test)\n",
    "\n",
    "# Compare predictions (y_pred) with the labels in the test set (y_test)\n",
    "metrics = classification_report(y_test, y_pred, output_dict=True)\n",
    "results = confusion_matrix(y_test, y_pred)"
   ]
  },
  {
   "cell_type": "code",
   "execution_count": 14,
   "id": "706c50c1",
   "metadata": {},
   "outputs": [
    {
     "name": "stdout",
     "output_type": "stream",
     "text": [
      "{'3': {'precision': 0.0, 'recall': 0.0, 'f1-score': 0.0, 'support': 3.0}, '4': {'precision': 0.18181818181818182, 'recall': 0.25, 'f1-score': 0.2105263157894737, 'support': 40.0}, '5': {'precision': 0.4868035190615836, 'recall': 0.4811594202898551, 'f1-score': 0.4839650145772595, 'support': 345.0}, '6': {'precision': 0.5222929936305732, 'recall': 0.5125, 'f1-score': 0.5173501577287065, 'support': 480.0}, '7': {'precision': 0.38372093023255816, 'recall': 0.38372093023255816, 'f1-score': 0.3837209302325581, 'support': 172.0}, '8': {'precision': 0.18518518518518517, 'recall': 0.15151515151515152, 'f1-score': 0.16666666666666666, 'support': 33.0}, 'accuracy': 0.4594594594594595, 'macro avg': {'precision': 0.293303468321347, 'recall': 0.29648258367292746, 'f1-score': 0.2937048474991108, 'support': 1073.0}, 'weighted avg': {'precision': 0.46414882516566625, 'recall': 0.4594594594594595, 'f1-score': 0.46152568347671263, 'support': 1073.0}}\n"
     ]
    }
   ],
   "source": [
    "print(metrics)"
   ]
  },
  {
   "cell_type": "code",
   "execution_count": 15,
   "id": "3385069c",
   "metadata": {},
   "outputs": [
    {
     "data": {
      "image/png": "[encoded data removed]",
      "text/plain": [
       "<Figure size 640x480 with 2 Axes>"
      ]
     },
     "metadata": {},
     "output_type": "display_data"
    }
   ],
   "source": [
    "# Create the confusion matrix as a figure, we will later store it as a PNG image file\n",
    "df_cm = pd.DataFrame(results)\n",
    "cm = sns.heatmap(df_cm, annot=True)\n",
    "fig = cm.get_figure()"
   ]
  },
  {
   "cell_type": "code",
   "execution_count": 16,
   "id": "fd376550",
   "metadata": {},
   "outputs": [
    {
     "name": "stdout",
     "output_type": "stream",
     "text": [
      "Connected. Call `.close()` to terminate connection gracefully.\n"
     ]
    },
    {
     "data": {
      "application/vnd.jupyter.widget-view+json": {
       "model_id": "c5b15452768f4e6abaf038c20418efee",
       "version_major": 2,
       "version_minor": 0
      },
      "text/plain": [
       "  0%|          | 0/6 [00:00<?, ?it/s]"
      ]
     },
     "metadata": {},
     "output_type": "display_data"
    },
    {
     "name": "stdout",
     "output_type": "stream",
     "text": [
      "Model created, explore it at https://c.app.hopsworks.ai:443/p/206998/models/wine_model/2\n"
     ]
    },
    {
     "data": {
      "text/plain": [
       "Model(name: 'wine_model', version: 2)"
      ]
     },
     "execution_count": 16,
     "metadata": {},
     "output_type": "execute_result"
    }
   ],
   "source": [
    "# We will now upload our model to the Hopsworks Model Registry. First get an object for the model registry.\n",
    "mr = project.get_model_registry()\n",
    "\n",
    "# The contents of the 'iris_model' directory will be saved to the model registry. Create the dir, first.\n",
    "model_dir=\"wine_model\"\n",
    "if os.path.isdir(model_dir) == False:\n",
    "    os.mkdir(model_dir)\n",
    "\n",
    "# Save both our model and the confusion matrix to 'model_dir', whose contents will be uploaded to the model registry\n",
    "joblib.dump(model, model_dir + \"/wine_model.pkl\")\n",
    "fig.savefig(model_dir + \"/confusion_matrix.png\")    \n",
    "\n",
    "# Specify the schema of the model's input/output using the features (X_train) and labels (y_train)\n",
    "input_schema = Schema(X_train)\n",
    "output_schema = Schema(y_train)\n",
    "model_schema = ModelSchema(input_schema, output_schema)\n",
    "\n",
    "# Create an entry in the model registry that includes the model's name, desc, metrics\n",
    "wine_model = mr.python.create_model(\n",
    "    name=\"wine_model\", \n",
    "    metrics={\"accuracy\" : metrics['accuracy']},\n",
    "    model_schema=model_schema,\n",
    "    description=\"Wine Quality Predictor\"\n",
    ")\n",
    "\n",
    "# Upload the model to the model registry, including all files in 'model_dir'\n",
    "wine_model.save(model_dir)"
   ]
  },
  {
   "cell_type": "code",
   "execution_count": null,
   "id": "c1523d96",
   "metadata": {},
   "outputs": [],
   "source": []
  }
 ],
 "metadata": {
  "kernelspec": {
   "display_name": "Python 3 (ipykernel)",
   "language": "python",
   "name": "python3"
  },
  "language_info": {
   "codemirror_mode": {
    "name": "ipython",
    "version": 3
   },
   "file_extension": ".py",
   "mimetype": "text/x-python",
   "name": "python",
   "nbconvert_exporter": "python",
   "pygments_lexer": "ipython3",
   "version": "3.9.16"
  }
 },
 "nbformat": 4,
 "nbformat_minor": 5
}
